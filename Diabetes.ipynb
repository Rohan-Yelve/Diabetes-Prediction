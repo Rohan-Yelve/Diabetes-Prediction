{
 "cells": [
  {
   "cell_type": "code",
   "execution_count": 1,
   "id": "a13a735c",
   "metadata": {},
   "outputs": [],
   "source": [
    "import pandas as pd\n",
    "import numpy as np\n",
    "from matplotlib import pyplot as plt\n",
    "import seaborn as sns\n",
    "%matplotlib inline\n",
    "sns.set()"
   ]
  },
  {
   "cell_type": "code",
   "execution_count": 2,
   "id": "8a0c7ee3",
   "metadata": {},
   "outputs": [],
   "source": [
    "import warnings\n",
    "warnings.filterwarnings('ignore')"
   ]
  },
  {
   "cell_type": "code",
   "execution_count": 3,
   "id": "42365425",
   "metadata": {},
   "outputs": [],
   "source": [
    "df = pd.read_csv('diabetes.csv')"
   ]
  },
  {
   "cell_type": "code",
   "execution_count": 4,
   "id": "fddd211f",
   "metadata": {},
   "outputs": [
    {
     "data": {
      "text/html": [
       "<div>\n",
       "<style scoped>\n",
       "    .dataframe tbody tr th:only-of-type {\n",
       "        vertical-align: middle;\n",
       "    }\n",
       "\n",
       "    .dataframe tbody tr th {\n",
       "        vertical-align: top;\n",
       "    }\n",
       "\n",
       "    .dataframe thead th {\n",
       "        text-align: right;\n",
       "    }\n",
       "</style>\n",
       "<table border=\"1\" class=\"dataframe\">\n",
       "  <thead>\n",
       "    <tr style=\"text-align: right;\">\n",
       "      <th></th>\n",
       "      <th>Pregnancies</th>\n",
       "      <th>Glucose</th>\n",
       "      <th>BloodPressure</th>\n",
       "      <th>SkinThickness</th>\n",
       "      <th>Insulin</th>\n",
       "      <th>BMI</th>\n",
       "      <th>DiabetesPedigreeFunction</th>\n",
       "      <th>Age</th>\n",
       "      <th>Outcome</th>\n",
       "    </tr>\n",
       "  </thead>\n",
       "  <tbody>\n",
       "    <tr>\n",
       "      <th>0</th>\n",
       "      <td>6</td>\n",
       "      <td>148</td>\n",
       "      <td>72</td>\n",
       "      <td>35</td>\n",
       "      <td>0</td>\n",
       "      <td>33.6</td>\n",
       "      <td>0.627</td>\n",
       "      <td>50</td>\n",
       "      <td>1</td>\n",
       "    </tr>\n",
       "    <tr>\n",
       "      <th>1</th>\n",
       "      <td>1</td>\n",
       "      <td>85</td>\n",
       "      <td>66</td>\n",
       "      <td>29</td>\n",
       "      <td>0</td>\n",
       "      <td>26.6</td>\n",
       "      <td>0.351</td>\n",
       "      <td>31</td>\n",
       "      <td>0</td>\n",
       "    </tr>\n",
       "    <tr>\n",
       "      <th>2</th>\n",
       "      <td>8</td>\n",
       "      <td>183</td>\n",
       "      <td>64</td>\n",
       "      <td>0</td>\n",
       "      <td>0</td>\n",
       "      <td>23.3</td>\n",
       "      <td>0.672</td>\n",
       "      <td>32</td>\n",
       "      <td>1</td>\n",
       "    </tr>\n",
       "    <tr>\n",
       "      <th>3</th>\n",
       "      <td>1</td>\n",
       "      <td>89</td>\n",
       "      <td>66</td>\n",
       "      <td>23</td>\n",
       "      <td>94</td>\n",
       "      <td>28.1</td>\n",
       "      <td>0.167</td>\n",
       "      <td>21</td>\n",
       "      <td>0</td>\n",
       "    </tr>\n",
       "    <tr>\n",
       "      <th>4</th>\n",
       "      <td>0</td>\n",
       "      <td>137</td>\n",
       "      <td>40</td>\n",
       "      <td>35</td>\n",
       "      <td>168</td>\n",
       "      <td>43.1</td>\n",
       "      <td>2.288</td>\n",
       "      <td>33</td>\n",
       "      <td>1</td>\n",
       "    </tr>\n",
       "  </tbody>\n",
       "</table>\n",
       "</div>"
      ],
      "text/plain": [
       "   Pregnancies  Glucose  BloodPressure  SkinThickness  Insulin   BMI  \\\n",
       "0            6      148             72             35        0  33.6   \n",
       "1            1       85             66             29        0  26.6   \n",
       "2            8      183             64              0        0  23.3   \n",
       "3            1       89             66             23       94  28.1   \n",
       "4            0      137             40             35      168  43.1   \n",
       "\n",
       "   DiabetesPedigreeFunction  Age  Outcome  \n",
       "0                     0.627   50        1  \n",
       "1                     0.351   31        0  \n",
       "2                     0.672   32        1  \n",
       "3                     0.167   21        0  \n",
       "4                     2.288   33        1  "
      ]
     },
     "execution_count": 4,
     "metadata": {},
     "output_type": "execute_result"
    }
   ],
   "source": [
    "df.head()"
   ]
  },
  {
   "cell_type": "code",
   "execution_count": 5,
   "id": "8a3f2ae4",
   "metadata": {},
   "outputs": [
    {
     "data": {
      "text/plain": [
       "(768, 9)"
      ]
     },
     "execution_count": 5,
     "metadata": {},
     "output_type": "execute_result"
    }
   ],
   "source": [
    "df.shape"
   ]
  },
  {
   "cell_type": "code",
   "execution_count": 6,
   "id": "f0315b34",
   "metadata": {},
   "outputs": [
    {
     "data": {
      "text/plain": [
       "Pregnancies                 0\n",
       "Glucose                     0\n",
       "BloodPressure               0\n",
       "SkinThickness               0\n",
       "Insulin                     0\n",
       "BMI                         0\n",
       "DiabetesPedigreeFunction    0\n",
       "Age                         0\n",
       "Outcome                     0\n",
       "dtype: int64"
      ]
     },
     "execution_count": 6,
     "metadata": {},
     "output_type": "execute_result"
    }
   ],
   "source": [
    "df.isnull().sum() "
   ]
  },
  {
   "cell_type": "code",
   "execution_count": 7,
   "id": "36c30393",
   "metadata": {},
   "outputs": [
    {
     "name": "stdout",
     "output_type": "stream",
     "text": [
      "<class 'pandas.core.frame.DataFrame'>\n",
      "RangeIndex: 768 entries, 0 to 767\n",
      "Data columns (total 9 columns):\n",
      " #   Column                    Non-Null Count  Dtype  \n",
      "---  ------                    --------------  -----  \n",
      " 0   Pregnancies               768 non-null    int64  \n",
      " 1   Glucose                   768 non-null    int64  \n",
      " 2   BloodPressure             768 non-null    int64  \n",
      " 3   SkinThickness             768 non-null    int64  \n",
      " 4   Insulin                   768 non-null    int64  \n",
      " 5   BMI                       768 non-null    float64\n",
      " 6   DiabetesPedigreeFunction  768 non-null    float64\n",
      " 7   Age                       768 non-null    int64  \n",
      " 8   Outcome                   768 non-null    int64  \n",
      "dtypes: float64(2), int64(7)\n",
      "memory usage: 54.1 KB\n"
     ]
    }
   ],
   "source": [
    "df.info()"
   ]
  },
  {
   "cell_type": "code",
   "execution_count": 8,
   "id": "f84fc739",
   "metadata": {},
   "outputs": [
    {
     "data": {
      "text/html": [
       "<div>\n",
       "<style scoped>\n",
       "    .dataframe tbody tr th:only-of-type {\n",
       "        vertical-align: middle;\n",
       "    }\n",
       "\n",
       "    .dataframe tbody tr th {\n",
       "        vertical-align: top;\n",
       "    }\n",
       "\n",
       "    .dataframe thead th {\n",
       "        text-align: right;\n",
       "    }\n",
       "</style>\n",
       "<table border=\"1\" class=\"dataframe\">\n",
       "  <thead>\n",
       "    <tr style=\"text-align: right;\">\n",
       "      <th></th>\n",
       "      <th>Pregnancies</th>\n",
       "      <th>Glucose</th>\n",
       "      <th>BloodPressure</th>\n",
       "      <th>SkinThickness</th>\n",
       "      <th>Insulin</th>\n",
       "      <th>BMI</th>\n",
       "      <th>DiabetesPedigreeFunction</th>\n",
       "      <th>Age</th>\n",
       "      <th>Outcome</th>\n",
       "    </tr>\n",
       "  </thead>\n",
       "  <tbody>\n",
       "    <tr>\n",
       "      <th>count</th>\n",
       "      <td>768.000000</td>\n",
       "      <td>768.000000</td>\n",
       "      <td>768.000000</td>\n",
       "      <td>768.000000</td>\n",
       "      <td>768.000000</td>\n",
       "      <td>768.000000</td>\n",
       "      <td>768.000000</td>\n",
       "      <td>768.000000</td>\n",
       "      <td>768.000000</td>\n",
       "    </tr>\n",
       "    <tr>\n",
       "      <th>mean</th>\n",
       "      <td>3.845052</td>\n",
       "      <td>120.894531</td>\n",
       "      <td>69.105469</td>\n",
       "      <td>20.536458</td>\n",
       "      <td>79.799479</td>\n",
       "      <td>31.992578</td>\n",
       "      <td>0.471876</td>\n",
       "      <td>33.240885</td>\n",
       "      <td>0.348958</td>\n",
       "    </tr>\n",
       "    <tr>\n",
       "      <th>std</th>\n",
       "      <td>3.369578</td>\n",
       "      <td>31.972618</td>\n",
       "      <td>19.355807</td>\n",
       "      <td>15.952218</td>\n",
       "      <td>115.244002</td>\n",
       "      <td>7.884160</td>\n",
       "      <td>0.331329</td>\n",
       "      <td>11.760232</td>\n",
       "      <td>0.476951</td>\n",
       "    </tr>\n",
       "    <tr>\n",
       "      <th>min</th>\n",
       "      <td>0.000000</td>\n",
       "      <td>0.000000</td>\n",
       "      <td>0.000000</td>\n",
       "      <td>0.000000</td>\n",
       "      <td>0.000000</td>\n",
       "      <td>0.000000</td>\n",
       "      <td>0.078000</td>\n",
       "      <td>21.000000</td>\n",
       "      <td>0.000000</td>\n",
       "    </tr>\n",
       "    <tr>\n",
       "      <th>25%</th>\n",
       "      <td>1.000000</td>\n",
       "      <td>99.000000</td>\n",
       "      <td>62.000000</td>\n",
       "      <td>0.000000</td>\n",
       "      <td>0.000000</td>\n",
       "      <td>27.300000</td>\n",
       "      <td>0.243750</td>\n",
       "      <td>24.000000</td>\n",
       "      <td>0.000000</td>\n",
       "    </tr>\n",
       "    <tr>\n",
       "      <th>50%</th>\n",
       "      <td>3.000000</td>\n",
       "      <td>117.000000</td>\n",
       "      <td>72.000000</td>\n",
       "      <td>23.000000</td>\n",
       "      <td>30.500000</td>\n",
       "      <td>32.000000</td>\n",
       "      <td>0.372500</td>\n",
       "      <td>29.000000</td>\n",
       "      <td>0.000000</td>\n",
       "    </tr>\n",
       "    <tr>\n",
       "      <th>75%</th>\n",
       "      <td>6.000000</td>\n",
       "      <td>140.250000</td>\n",
       "      <td>80.000000</td>\n",
       "      <td>32.000000</td>\n",
       "      <td>127.250000</td>\n",
       "      <td>36.600000</td>\n",
       "      <td>0.626250</td>\n",
       "      <td>41.000000</td>\n",
       "      <td>1.000000</td>\n",
       "    </tr>\n",
       "    <tr>\n",
       "      <th>max</th>\n",
       "      <td>17.000000</td>\n",
       "      <td>199.000000</td>\n",
       "      <td>122.000000</td>\n",
       "      <td>99.000000</td>\n",
       "      <td>846.000000</td>\n",
       "      <td>67.100000</td>\n",
       "      <td>2.420000</td>\n",
       "      <td>81.000000</td>\n",
       "      <td>1.000000</td>\n",
       "    </tr>\n",
       "  </tbody>\n",
       "</table>\n",
       "</div>"
      ],
      "text/plain": [
       "       Pregnancies     Glucose  BloodPressure  SkinThickness     Insulin  \\\n",
       "count   768.000000  768.000000     768.000000     768.000000  768.000000   \n",
       "mean      3.845052  120.894531      69.105469      20.536458   79.799479   \n",
       "std       3.369578   31.972618      19.355807      15.952218  115.244002   \n",
       "min       0.000000    0.000000       0.000000       0.000000    0.000000   \n",
       "25%       1.000000   99.000000      62.000000       0.000000    0.000000   \n",
       "50%       3.000000  117.000000      72.000000      23.000000   30.500000   \n",
       "75%       6.000000  140.250000      80.000000      32.000000  127.250000   \n",
       "max      17.000000  199.000000     122.000000      99.000000  846.000000   \n",
       "\n",
       "              BMI  DiabetesPedigreeFunction         Age     Outcome  \n",
       "count  768.000000                768.000000  768.000000  768.000000  \n",
       "mean    31.992578                  0.471876   33.240885    0.348958  \n",
       "std      7.884160                  0.331329   11.760232    0.476951  \n",
       "min      0.000000                  0.078000   21.000000    0.000000  \n",
       "25%     27.300000                  0.243750   24.000000    0.000000  \n",
       "50%     32.000000                  0.372500   29.000000    0.000000  \n",
       "75%     36.600000                  0.626250   41.000000    1.000000  \n",
       "max     67.100000                  2.420000   81.000000    1.000000  "
      ]
     },
     "execution_count": 8,
     "metadata": {},
     "output_type": "execute_result"
    }
   ],
   "source": [
    "df.describe() # some features min values is 0 (means null values)"
   ]
  },
  {
   "cell_type": "code",
   "execution_count": 9,
   "id": "9cac1d92",
   "metadata": {},
   "outputs": [
    {
     "data": {
      "image/png": "[encoded data removed]",
      "text/plain": [
       "<Figure size 864x576 with 9 Axes>"
      ]
     },
     "metadata": {},
     "output_type": "display_data"
    }
   ],
   "source": [
    "df.hist(figsize=(12,8)) # overview of data distribution\n",
    "plt.show()"
   ]
  },
  {
   "cell_type": "code",
   "execution_count": 10,
   "id": "6f24eaa4",
   "metadata": {},
   "outputs": [
    {
     "data": {
      "image/png": "[encoded data removed]",
      "text/plain": [
       "<Figure size 720x2160 with 16 Axes>"
      ]
     },
     "metadata": {},
     "output_type": "display_data"
    }
   ],
   "source": [
    "plt.figure(figsize=(10,30))\n",
    "\n",
    "plt.subplot(8,2,1)\n",
    "sns.distplot(df['Pregnancies'], color='r')\n",
    "plt.subplot(8,2,2)\n",
    "sns.boxplot(df['Pregnancies'])\n",
    "\n",
    "plt.subplot(8,2,3)\n",
    "sns.distplot(df['Glucose'], color='r')\n",
    "plt.subplot(8,2,4)\n",
    "sns.boxplot(df['Glucose'])\n",
    "\n",
    "plt.subplot(8,2,5)\n",
    "sns.distplot(df['BloodPressure'], color='r')\n",
    "plt.subplot(8,2,6)\n",
    "sns.boxplot(df['BloodPressure'])\n",
    "\n",
    "plt.subplot(8,2,7)\n",
    "sns.distplot(df['SkinThickness'], color='r')\n",
    "plt.subplot(8,2,8)\n",
    "sns.boxplot(df['SkinThickness'])\n",
    "\n",
    "plt.subplot(8,2,9)\n",
    "sns.distplot(df['Insulin'], color='r')\n",
    "plt.subplot(8,2,10)\n",
    "sns.boxplot(df['Insulin'])\n",
    "\n",
    "plt.subplot(8,2,11)\n",
    "sns.distplot(df['BMI'], color='r')\n",
    "plt.subplot(8,2,12)\n",
    "sns.boxplot(df['BMI'])\n",
    "\n",
    "plt.subplot(8,2,13)\n",
    "sns.distplot(df['DiabetesPedigreeFunction'], color='r')\n",
    "plt.subplot(8,2,14)\n",
    "sns.boxplot(df['DiabetesPedigreeFunction'])\n",
    "\n",
    "plt.subplot(8,2,15)\n",
    "sns.distplot(df['Age'], color='r')   # data has 0 values and outliers\n",
    "plt.subplot(8,2,16)\n",
    "sns.boxplot(df['Age'])\n",
    "\n",
    "plt.show()"
   ]
  },
  {
   "cell_type": "code",
   "execution_count": 11,
   "id": "8f3c27cf",
   "metadata": {},
   "outputs": [
    {
     "name": "stdout",
     "output_type": "stream",
     "text": [
      "0    500\n",
      "1    268\n",
      "Name: Outcome, dtype: int64\n"
     ]
    },
    {
     "data": {
      "image/png": "[encoded data removed]",
      "text/plain": [
       "<Figure size 432x288 with 1 Axes>"
      ]
     },
     "metadata": {},
     "output_type": "display_data"
    }
   ],
   "source": [
    "df['Outcome'].value_counts().plot(kind='bar') # ''' data is imbalaced. tree based algoriths are good for imbalaced data\n",
    "print(df['Outcome'].value_counts())           #     there some others techniques too like under sampling and over sampling '''"
   ]
  },
  {
   "cell_type": "code",
   "execution_count": 12,
   "id": "af3ddc0c",
   "metadata": {},
   "outputs": [
    {
     "data": {
      "text/plain": [
       "Pregnancies                 0.221898\n",
       "Glucose                     0.466581\n",
       "BloodPressure               0.065068\n",
       "SkinThickness               0.074752\n",
       "Insulin                     0.130548\n",
       "BMI                         0.292695\n",
       "DiabetesPedigreeFunction    0.173844\n",
       "Age                         0.238356\n",
       "Outcome                     1.000000\n",
       "Name: Outcome, dtype: float64"
      ]
     },
     "execution_count": 12,
     "metadata": {},
     "output_type": "execute_result"
    }
   ],
   "source": [
    "df.corr()['Outcome'] # correlation with 'Outcome'"
   ]
  },
  {
   "cell_type": "code",
   "execution_count": 13,
   "id": "f49cccdc",
   "metadata": {},
   "outputs": [
    {
     "data": {
      "text/plain": [
       "<AxesSubplot:>"
      ]
     },
     "execution_count": 13,
     "metadata": {},
     "output_type": "execute_result"
    },
    {
     "data": {
      "image/png": "[encoded data removed]",
      "text/plain": [
       "<Figure size 720x432 with 2 Axes>"
      ]
     },
     "metadata": {},
     "output_type": "display_data"
    }
   ],
   "source": [
    "plt.figure(figsize=(10,6))\n",
    "sns.heatmap(df.corr(), annot=True)"
   ]
  },
  {
   "cell_type": "code",
   "execution_count": 14,
   "id": "9103bb4a",
   "metadata": {},
   "outputs": [],
   "source": [
    "# droping 'BloodPressure', 'SkinThickness', and 'Insulin'..  Insulin has lots of 0 means nan values and outliers\n",
    "\n",
    "df.drop(columns=['BloodPressure', 'SkinThickness', 'Insulin'], axis=1, inplace=True)"
   ]
  },
  {
   "cell_type": "code",
   "execution_count": 15,
   "id": "eae3043f",
   "metadata": {},
   "outputs": [
    {
     "data": {
      "text/html": [
       "<div>\n",
       "<style scoped>\n",
       "    .dataframe tbody tr th:only-of-type {\n",
       "        vertical-align: middle;\n",
       "    }\n",
       "\n",
       "    .dataframe tbody tr th {\n",
       "        vertical-align: top;\n",
       "    }\n",
       "\n",
       "    .dataframe thead th {\n",
       "        text-align: right;\n",
       "    }\n",
       "</style>\n",
       "<table border=\"1\" class=\"dataframe\">\n",
       "  <thead>\n",
       "    <tr style=\"text-align: right;\">\n",
       "      <th></th>\n",
       "      <th>Pregnancies</th>\n",
       "      <th>Glucose</th>\n",
       "      <th>BMI</th>\n",
       "      <th>DiabetesPedigreeFunction</th>\n",
       "      <th>Age</th>\n",
       "      <th>Outcome</th>\n",
       "    </tr>\n",
       "  </thead>\n",
       "  <tbody>\n",
       "    <tr>\n",
       "      <th>0</th>\n",
       "      <td>6</td>\n",
       "      <td>148</td>\n",
       "      <td>33.6</td>\n",
       "      <td>0.627</td>\n",
       "      <td>50</td>\n",
       "      <td>1</td>\n",
       "    </tr>\n",
       "    <tr>\n",
       "      <th>1</th>\n",
       "      <td>1</td>\n",
       "      <td>85</td>\n",
       "      <td>26.6</td>\n",
       "      <td>0.351</td>\n",
       "      <td>31</td>\n",
       "      <td>0</td>\n",
       "    </tr>\n",
       "  </tbody>\n",
       "</table>\n",
       "</div>"
      ],
      "text/plain": [
       "   Pregnancies  Glucose   BMI  DiabetesPedigreeFunction  Age  Outcome\n",
       "0            6      148  33.6                     0.627   50        1\n",
       "1            1       85  26.6                     0.351   31        0"
      ]
     },
     "execution_count": 15,
     "metadata": {},
     "output_type": "execute_result"
    }
   ],
   "source": [
    "df.head(2)"
   ]
  },
  {
   "cell_type": "markdown",
   "id": "c1096efc",
   "metadata": {},
   "source": [
    "### Outliers"
   ]
  },
  {
   "cell_type": "code",
   "execution_count": 16,
   "id": "d51e95a3",
   "metadata": {},
   "outputs": [],
   "source": [
    "# IQR\n",
    "\n",
    "per75 = df['Pregnancies'].quantile(0.75)\n",
    "per25 = df['Pregnancies'].quantile(0.25)"
   ]
  },
  {
   "cell_type": "code",
   "execution_count": 17,
   "id": "c2d7cf7d",
   "metadata": {},
   "outputs": [],
   "source": [
    "iqr = per75 - per25"
   ]
  },
  {
   "cell_type": "code",
   "execution_count": 18,
   "id": "58a1812e",
   "metadata": {},
   "outputs": [],
   "source": [
    "upper_limit = per75 + 1.5 * iqr\n",
    "lower_limit = per25 - 1.5 * iqr"
   ]
  },
  {
   "cell_type": "code",
   "execution_count": 19,
   "id": "f32d1835",
   "metadata": {},
   "outputs": [
    {
     "name": "stdout",
     "output_type": "stream",
     "text": [
      "upper limit:  13.5\n",
      "lower limit:  -6.5\n"
     ]
    }
   ],
   "source": [
    "print('upper limit: ', upper_limit)\n",
    "print('lower limit: ', lower_limit)"
   ]
  },
  {
   "cell_type": "code",
   "execution_count": 20,
   "id": "5cf88c44",
   "metadata": {},
   "outputs": [
    {
     "data": {
      "text/html": [
       "<div>\n",
       "<style scoped>\n",
       "    .dataframe tbody tr th:only-of-type {\n",
       "        vertical-align: middle;\n",
       "    }\n",
       "\n",
       "    .dataframe tbody tr th {\n",
       "        vertical-align: top;\n",
       "    }\n",
       "\n",
       "    .dataframe thead th {\n",
       "        text-align: right;\n",
       "    }\n",
       "</style>\n",
       "<table border=\"1\" class=\"dataframe\">\n",
       "  <thead>\n",
       "    <tr style=\"text-align: right;\">\n",
       "      <th></th>\n",
       "      <th>Pregnancies</th>\n",
       "      <th>Glucose</th>\n",
       "      <th>BMI</th>\n",
       "      <th>DiabetesPedigreeFunction</th>\n",
       "      <th>Age</th>\n",
       "      <th>Outcome</th>\n",
       "    </tr>\n",
       "  </thead>\n",
       "  <tbody>\n",
       "    <tr>\n",
       "      <th>88</th>\n",
       "      <td>15</td>\n",
       "      <td>136</td>\n",
       "      <td>37.1</td>\n",
       "      <td>0.153</td>\n",
       "      <td>43</td>\n",
       "      <td>1</td>\n",
       "    </tr>\n",
       "    <tr>\n",
       "      <th>159</th>\n",
       "      <td>17</td>\n",
       "      <td>163</td>\n",
       "      <td>40.9</td>\n",
       "      <td>0.817</td>\n",
       "      <td>47</td>\n",
       "      <td>1</td>\n",
       "    </tr>\n",
       "    <tr>\n",
       "      <th>298</th>\n",
       "      <td>14</td>\n",
       "      <td>100</td>\n",
       "      <td>36.6</td>\n",
       "      <td>0.412</td>\n",
       "      <td>46</td>\n",
       "      <td>1</td>\n",
       "    </tr>\n",
       "    <tr>\n",
       "      <th>455</th>\n",
       "      <td>14</td>\n",
       "      <td>175</td>\n",
       "      <td>33.6</td>\n",
       "      <td>0.212</td>\n",
       "      <td>38</td>\n",
       "      <td>1</td>\n",
       "    </tr>\n",
       "  </tbody>\n",
       "</table>\n",
       "</div>"
      ],
      "text/plain": [
       "     Pregnancies  Glucose   BMI  DiabetesPedigreeFunction  Age  Outcome\n",
       "88            15      136  37.1                     0.153   43        1\n",
       "159           17      163  40.9                     0.817   47        1\n",
       "298           14      100  36.6                     0.412   46        1\n",
       "455           14      175  33.6                     0.212   38        1"
      ]
     },
     "execution_count": 20,
     "metadata": {},
     "output_type": "execute_result"
    }
   ],
   "source": [
    "df[(df['Pregnancies'] > upper_limit) | (df['Pregnancies'] < lower_limit)] # here is the outliers"
   ]
  },
  {
   "cell_type": "code",
   "execution_count": 21,
   "id": "eebdba0c",
   "metadata": {},
   "outputs": [],
   "source": [
    "# we have less data so we going to keep\n",
    "\n",
    "df['Pregnancies'] = np.where(df['Pregnancies'] > upper_limit,\n",
    "                            upper_limit,\n",
    "                            np.where(df['Pregnancies'] < lower_limit,\n",
    "                                    lower_limit,\n",
    "                                    df['Pregnancies']))"
   ]
  },
  {
   "cell_type": "code",
   "execution_count": 22,
   "id": "1b842098",
   "metadata": {},
   "outputs": [
    {
     "name": "stdout",
     "output_type": "stream",
     "text": [
      "upper limit:  216.81238583540866\n",
      "lower limit:  24.976676664591338\n"
     ]
    }
   ],
   "source": [
    "# 3 and -3 standard deviation\n",
    "\n",
    "print('upper limit: ', df['Glucose'].mean() + 3 * df['Glucose'].std())\n",
    "print('lower limit: ', df['Glucose'].mean() - 3 * df['Glucose'].std())"
   ]
  },
  {
   "cell_type": "code",
   "execution_count": 23,
   "id": "603d1e33",
   "metadata": {},
   "outputs": [
    {
     "data": {
      "text/html": [
       "<div>\n",
       "<style scoped>\n",
       "    .dataframe tbody tr th:only-of-type {\n",
       "        vertical-align: middle;\n",
       "    }\n",
       "\n",
       "    .dataframe tbody tr th {\n",
       "        vertical-align: top;\n",
       "    }\n",
       "\n",
       "    .dataframe thead th {\n",
       "        text-align: right;\n",
       "    }\n",
       "</style>\n",
       "<table border=\"1\" class=\"dataframe\">\n",
       "  <thead>\n",
       "    <tr style=\"text-align: right;\">\n",
       "      <th></th>\n",
       "      <th>Pregnancies</th>\n",
       "      <th>Glucose</th>\n",
       "      <th>BMI</th>\n",
       "      <th>DiabetesPedigreeFunction</th>\n",
       "      <th>Age</th>\n",
       "      <th>Outcome</th>\n",
       "    </tr>\n",
       "  </thead>\n",
       "  <tbody>\n",
       "    <tr>\n",
       "      <th>75</th>\n",
       "      <td>1.0</td>\n",
       "      <td>0</td>\n",
       "      <td>24.7</td>\n",
       "      <td>0.140</td>\n",
       "      <td>22</td>\n",
       "      <td>0</td>\n",
       "    </tr>\n",
       "    <tr>\n",
       "      <th>182</th>\n",
       "      <td>1.0</td>\n",
       "      <td>0</td>\n",
       "      <td>27.7</td>\n",
       "      <td>0.299</td>\n",
       "      <td>21</td>\n",
       "      <td>0</td>\n",
       "    </tr>\n",
       "    <tr>\n",
       "      <th>342</th>\n",
       "      <td>1.0</td>\n",
       "      <td>0</td>\n",
       "      <td>32.0</td>\n",
       "      <td>0.389</td>\n",
       "      <td>22</td>\n",
       "      <td>0</td>\n",
       "    </tr>\n",
       "    <tr>\n",
       "      <th>349</th>\n",
       "      <td>5.0</td>\n",
       "      <td>0</td>\n",
       "      <td>41.0</td>\n",
       "      <td>0.346</td>\n",
       "      <td>37</td>\n",
       "      <td>1</td>\n",
       "    </tr>\n",
       "    <tr>\n",
       "      <th>502</th>\n",
       "      <td>6.0</td>\n",
       "      <td>0</td>\n",
       "      <td>39.0</td>\n",
       "      <td>0.727</td>\n",
       "      <td>41</td>\n",
       "      <td>1</td>\n",
       "    </tr>\n",
       "  </tbody>\n",
       "</table>\n",
       "</div>"
      ],
      "text/plain": [
       "     Pregnancies  Glucose   BMI  DiabetesPedigreeFunction  Age  Outcome\n",
       "75           1.0        0  24.7                     0.140   22        0\n",
       "182          1.0        0  27.7                     0.299   21        0\n",
       "342          1.0        0  32.0                     0.389   22        0\n",
       "349          5.0        0  41.0                     0.346   37        1\n",
       "502          6.0        0  39.0                     0.727   41        1"
      ]
     },
     "execution_count": 23,
     "metadata": {},
     "output_type": "execute_result"
    }
   ],
   "source": [
    "df[(df['Glucose'] > 216.81) | (df['Glucose'] < 24.97)] # outliers are 0's basically they are nan values we will use mean, median"
   ]
  },
  {
   "cell_type": "code",
   "execution_count": 24,
   "id": "bd13ada0",
   "metadata": {},
   "outputs": [],
   "source": [
    "df['Glucose'].replace(0,np.nan, inplace=True)\n",
    "df['BMI'].replace(0,np.nan, inplace=True)"
   ]
  },
  {
   "cell_type": "code",
   "execution_count": 25,
   "id": "04981ae9",
   "metadata": {},
   "outputs": [
    {
     "name": "stdout",
     "output_type": "stream",
     "text": [
      "upper limit:  53.23242866870872\n",
      "lower limit:  11.682498676073308\n"
     ]
    }
   ],
   "source": [
    "print('upper limit: ', df['BMI'].mean() + 3 * df['BMI'].std())\n",
    "print('lower limit: ', df['BMI'].mean() - 3 * df['BMI'].std())"
   ]
  },
  {
   "cell_type": "code",
   "execution_count": 26,
   "id": "f5b9e3c7",
   "metadata": {},
   "outputs": [
    {
     "data": {
      "text/html": [
       "<div>\n",
       "<style scoped>\n",
       "    .dataframe tbody tr th:only-of-type {\n",
       "        vertical-align: middle;\n",
       "    }\n",
       "\n",
       "    .dataframe tbody tr th {\n",
       "        vertical-align: top;\n",
       "    }\n",
       "\n",
       "    .dataframe thead th {\n",
       "        text-align: right;\n",
       "    }\n",
       "</style>\n",
       "<table border=\"1\" class=\"dataframe\">\n",
       "  <thead>\n",
       "    <tr style=\"text-align: right;\">\n",
       "      <th></th>\n",
       "      <th>Pregnancies</th>\n",
       "      <th>Glucose</th>\n",
       "      <th>BMI</th>\n",
       "      <th>DiabetesPedigreeFunction</th>\n",
       "      <th>Age</th>\n",
       "      <th>Outcome</th>\n",
       "    </tr>\n",
       "  </thead>\n",
       "  <tbody>\n",
       "    <tr>\n",
       "      <th>125</th>\n",
       "      <td>1.0</td>\n",
       "      <td>88.0</td>\n",
       "      <td>55.0</td>\n",
       "      <td>0.496</td>\n",
       "      <td>26</td>\n",
       "      <td>1</td>\n",
       "    </tr>\n",
       "    <tr>\n",
       "      <th>177</th>\n",
       "      <td>0.0</td>\n",
       "      <td>129.0</td>\n",
       "      <td>67.1</td>\n",
       "      <td>0.319</td>\n",
       "      <td>26</td>\n",
       "      <td>1</td>\n",
       "    </tr>\n",
       "    <tr>\n",
       "      <th>445</th>\n",
       "      <td>0.0</td>\n",
       "      <td>180.0</td>\n",
       "      <td>59.4</td>\n",
       "      <td>2.420</td>\n",
       "      <td>25</td>\n",
       "      <td>1</td>\n",
       "    </tr>\n",
       "    <tr>\n",
       "      <th>673</th>\n",
       "      <td>3.0</td>\n",
       "      <td>123.0</td>\n",
       "      <td>57.3</td>\n",
       "      <td>0.880</td>\n",
       "      <td>22</td>\n",
       "      <td>0</td>\n",
       "    </tr>\n",
       "  </tbody>\n",
       "</table>\n",
       "</div>"
      ],
      "text/plain": [
       "     Pregnancies  Glucose   BMI  DiabetesPedigreeFunction  Age  Outcome\n",
       "125          1.0     88.0  55.0                     0.496   26        1\n",
       "177          0.0    129.0  67.1                     0.319   26        1\n",
       "445          0.0    180.0  59.4                     2.420   25        1\n",
       "673          3.0    123.0  57.3                     0.880   22        0"
      ]
     },
     "execution_count": 26,
     "metadata": {},
     "output_type": "execute_result"
    }
   ],
   "source": [
    "df[(df['BMI'] > 53.23) | (df['BMI'] < 11.68)]"
   ]
  },
  {
   "cell_type": "code",
   "execution_count": 27,
   "id": "e7fb2ba6",
   "metadata": {},
   "outputs": [],
   "source": [
    "df['BMI'] = np.where(df['BMI'] > 53.23,\n",
    "                    53.23,\n",
    "                    np.where(df['BMI'] < 11.68,\n",
    "                            11.68,\n",
    "                            df['BMI']))"
   ]
  },
  {
   "cell_type": "code",
   "execution_count": 28,
   "id": "750b1b02",
   "metadata": {},
   "outputs": [
    {
     "data": {
      "text/plain": [
       "Pregnancies                  0\n",
       "Glucose                      5\n",
       "BMI                         11\n",
       "DiabetesPedigreeFunction     0\n",
       "Age                          0\n",
       "Outcome                      0\n",
       "dtype: int64"
      ]
     },
     "execution_count": 28,
     "metadata": {},
     "output_type": "execute_result"
    }
   ],
   "source": [
    "df.isnull().sum()"
   ]
  },
  {
   "cell_type": "code",
   "execution_count": 29,
   "id": "edd71d42",
   "metadata": {},
   "outputs": [
    {
     "name": "stdout",
     "output_type": "stream",
     "text": [
      "Glucose mean: 121.6867627785059 Glucose median: 117.0\n",
      "BMI mean: 32.42327608982827 BMI median: 32.3\n"
     ]
    }
   ],
   "source": [
    "print('Glucose mean:',df['Glucose'].mean(), 'Glucose median:',df['Glucose'].median())\n",
    "print('BMI mean:',df['BMI'].mean(), 'BMI median:',df['BMI'].median())"
   ]
  },
  {
   "cell_type": "code",
   "execution_count": 30,
   "id": "ad33e192",
   "metadata": {},
   "outputs": [],
   "source": [
    "df['Glucose'].fillna(121, inplace=True)\n",
    "df['BMI'].fillna(32.3, inplace = True)"
   ]
  },
  {
   "cell_type": "code",
   "execution_count": 31,
   "id": "f4fa769b",
   "metadata": {},
   "outputs": [],
   "source": [
    "df['Pregnancies'] = df['Pregnancies'].astype('int64')\n",
    "df['Glucose'] = df['Glucose'].astype('int64')"
   ]
  },
  {
   "cell_type": "code",
   "execution_count": 32,
   "id": "167d3365",
   "metadata": {},
   "outputs": [],
   "source": [
    "X = df.iloc[:,:-1]\n",
    "y = df.iloc[:,-1]"
   ]
  },
  {
   "cell_type": "code",
   "execution_count": 33,
   "id": "1a364bde",
   "metadata": {},
   "outputs": [],
   "source": [
    "from sklearn.model_selection import train_test_split\n",
    "\n",
    "X_train,X_test,y_train,y_test = train_test_split(X,y, stratify=y, test_size=0.2, random_state=2)"
   ]
  },
  {
   "cell_type": "code",
   "execution_count": 34,
   "id": "8fdb542b",
   "metadata": {},
   "outputs": [
    {
     "name": "stdout",
     "output_type": "stream",
     "text": [
      "X_train.shape: (614, 5) X_test.shape: (154, 5) y_train.shape: (614,) y_test.shape: (154,)\n"
     ]
    }
   ],
   "source": [
    "print('X_train.shape:',X_train.shape, 'X_test.shape:',X_test.shape, 'y_train.shape:',y_train.shape, 'y_test.shape:',y_test.shape)"
   ]
  },
  {
   "cell_type": "code",
   "execution_count": 35,
   "id": "e4cffa8b",
   "metadata": {},
   "outputs": [],
   "source": [
    "from sklearn.ensemble import RandomForestClassifier,ExtraTreesClassifier,AdaBoostClassifier\n",
    "from sklearn.metrics import accuracy_score, confusion_matrix, classification_report\n",
    "# we have less data, outliers and imbalaced data that's why we are using ensemble techniques"
   ]
  },
  {
   "cell_type": "code",
   "execution_count": 62,
   "id": "1a477c2d",
   "metadata": {},
   "outputs": [],
   "source": [
    "# RandomForest\n",
    "rf = RandomForestClassifier()\n",
    "rf.fit(X_train,y_train)\n",
    "y_p_r = rf.predict(X_test)"
   ]
  },
  {
   "cell_type": "code",
   "execution_count": 63,
   "id": "4db87227",
   "metadata": {},
   "outputs": [
    {
     "name": "stdout",
     "output_type": "stream",
     "text": [
      "accuracy: 0.7922077922077922\n",
      "************************************************\n",
      "[[90 22]\n",
      " [10 32]]\n",
      "************************************************\n",
      "              precision    recall  f1-score   support\n",
      "\n",
      "           0       0.90      0.80      0.85       112\n",
      "           1       0.59      0.76      0.67        42\n",
      "\n",
      "    accuracy                           0.79       154\n",
      "   macro avg       0.75      0.78      0.76       154\n",
      "weighted avg       0.82      0.79      0.80       154\n",
      "\n"
     ]
    }
   ],
   "source": [
    "print('accuracy:',accuracy_score(y_p_r, y_test))\n",
    "print('************************************************')\n",
    "print(confusion_matrix(y_p_r,y_test))\n",
    "print('************************************************')\n",
    "print(classification_report(y_p_r,y_test))"
   ]
  },
  {
   "cell_type": "code",
   "execution_count": 38,
   "id": "fa8fb91a",
   "metadata": {},
   "outputs": [],
   "source": [
    "# ExtraTreesClassifier\n",
    "et = ExtraTreesClassifier()\n",
    "et.fit(X_train,y_train)\n",
    "y_p_e = et.predict(X_test)"
   ]
  },
  {
   "cell_type": "code",
   "execution_count": 39,
   "id": "36144761",
   "metadata": {},
   "outputs": [
    {
     "name": "stdout",
     "output_type": "stream",
     "text": [
      "accuracy: 0.7727272727272727\n",
      "************************************************\n",
      "[[88 23]\n",
      " [12 31]]\n",
      "************************************************\n",
      "              precision    recall  f1-score   support\n",
      "\n",
      "           0       0.88      0.79      0.83       111\n",
      "           1       0.57      0.72      0.64        43\n",
      "\n",
      "    accuracy                           0.77       154\n",
      "   macro avg       0.73      0.76      0.74       154\n",
      "weighted avg       0.79      0.77      0.78       154\n",
      "\n"
     ]
    }
   ],
   "source": [
    "print('accuracy:',accuracy_score(y_p_e, y_test))\n",
    "print('************************************************')\n",
    "print(confusion_matrix(y_p_e,y_test))\n",
    "print('************************************************')\n",
    "print(classification_report(y_p_e,y_test))"
   ]
  },
  {
   "cell_type": "code",
   "execution_count": 40,
   "id": "ce4ce48a",
   "metadata": {},
   "outputs": [],
   "source": [
    "# AdaBoostClassifier\n",
    "ab = AdaBoostClassifier()\n",
    "\n",
    "ab.fit(X_train,y_train)\n",
    "y_p_a = ab.predict(X_test)"
   ]
  },
  {
   "cell_type": "code",
   "execution_count": 41,
   "id": "52bedc46",
   "metadata": {},
   "outputs": [
    {
     "name": "stdout",
     "output_type": "stream",
     "text": [
      "accuracy: 0.7532467532467533\n",
      "************************************************\n",
      "[[87 25]\n",
      " [13 29]]\n",
      "************************************************\n",
      "              precision    recall  f1-score   support\n",
      "\n",
      "           0       0.87      0.78      0.82       112\n",
      "           1       0.54      0.69      0.60        42\n",
      "\n",
      "    accuracy                           0.75       154\n",
      "   macro avg       0.70      0.73      0.71       154\n",
      "weighted avg       0.78      0.75      0.76       154\n",
      "\n"
     ]
    }
   ],
   "source": [
    "print('accuracy:',accuracy_score(y_p_a, y_test))\n",
    "print('************************************************')\n",
    "print(confusion_matrix(y_p_a,y_test))\n",
    "print('************************************************')\n",
    "print(classification_report(y_p_a,y_test))"
   ]
  },
  {
   "cell_type": "code",
   "execution_count": 42,
   "id": "8733ef2c",
   "metadata": {},
   "outputs": [],
   "source": [
    "from sklearn.model_selection import GridSearchCV"
   ]
  },
  {
   "cell_type": "code",
   "execution_count": 43,
   "id": "7eb33b57",
   "metadata": {},
   "outputs": [],
   "source": [
    "rf_params = {\n",
    "    'n_estimators':[60,70,80,100],\n",
    "    'criterion':[\"gini\", \"entropy\"],\n",
    "    'max_depth':[2,4,6,8,None]\n",
    "}"
   ]
  },
  {
   "cell_type": "code",
   "execution_count": 44,
   "id": "c2b81b39",
   "metadata": {},
   "outputs": [],
   "source": [
    "grid = GridSearchCV(rf, param_grid=rf_params, cv=5, n_jobs=-1)"
   ]
  },
  {
   "cell_type": "code",
   "execution_count": 45,
   "id": "1e730c64",
   "metadata": {},
   "outputs": [
    {
     "data": {
      "text/plain": [
       "GridSearchCV(cv=5, estimator=RandomForestClassifier(), n_jobs=-1,\n",
       "             param_grid={'criterion': ['gini', 'entropy'],\n",
       "                         'max_depth': [2, 4, 6, 8, None],\n",
       "                         'n_estimators': [60, 70, 80, 100]})"
      ]
     },
     "execution_count": 45,
     "metadata": {},
     "output_type": "execute_result"
    }
   ],
   "source": [
    "grid.fit(X_train,y_train)"
   ]
  },
  {
   "cell_type": "code",
   "execution_count": 46,
   "id": "17da7cce",
   "metadata": {},
   "outputs": [
    {
     "data": {
      "text/plain": [
       "0.7751566040250566"
      ]
     },
     "execution_count": 46,
     "metadata": {},
     "output_type": "execute_result"
    }
   ],
   "source": [
    "grid.best_score_"
   ]
  },
  {
   "cell_type": "code",
   "execution_count": 47,
   "id": "f3cce427",
   "metadata": {},
   "outputs": [
    {
     "data": {
      "text/plain": [
       "{'criterion': 'entropy', 'max_depth': None, 'n_estimators': 70}"
      ]
     },
     "execution_count": 47,
     "metadata": {},
     "output_type": "execute_result"
    }
   ],
   "source": [
    "grid.best_params_"
   ]
  },
  {
   "cell_type": "code",
   "execution_count": 48,
   "id": "04b77585",
   "metadata": {},
   "outputs": [],
   "source": [
    "import pickle\n",
    "pickle.dump(rf, open('model.pkl','wb'))"
   ]
  },
  {
   "cell_type": "code",
   "execution_count": 49,
   "id": "e06e4bb6",
   "metadata": {},
   "outputs": [],
   "source": [
    "# lets try some algos"
   ]
  },
  {
   "cell_type": "code",
   "execution_count": 50,
   "id": "a3e73a10",
   "metadata": {},
   "outputs": [],
   "source": [
    "from sklearn.svm import SVC"
   ]
  },
  {
   "cell_type": "code",
   "execution_count": 51,
   "id": "fb871ce0",
   "metadata": {},
   "outputs": [],
   "source": [
    "# svc\n",
    "svc = SVC()\n",
    "svc.fit(X_train,y_train)\n",
    "y_p_s = svc.predict(X_test)"
   ]
  },
  {
   "cell_type": "code",
   "execution_count": 52,
   "id": "d71cd257",
   "metadata": {},
   "outputs": [
    {
     "name": "stdout",
     "output_type": "stream",
     "text": [
      "accuracy: 0.7597402597402597\n",
      "************************************************\n",
      "[[92 29]\n",
      " [ 8 25]]\n",
      "************************************************\n",
      "              precision    recall  f1-score   support\n",
      "\n",
      "           0       0.92      0.76      0.83       121\n",
      "           1       0.46      0.76      0.57        33\n",
      "\n",
      "    accuracy                           0.76       154\n",
      "   macro avg       0.69      0.76      0.70       154\n",
      "weighted avg       0.82      0.76      0.78       154\n",
      "\n"
     ]
    }
   ],
   "source": [
    "print('accuracy:',accuracy_score(y_p_s, y_test))\n",
    "print('************************************************')\n",
    "print(confusion_matrix(y_p_s,y_test))\n",
    "print('************************************************')\n",
    "print(classification_report(y_p_s,y_test))"
   ]
  },
  {
   "cell_type": "code",
   "execution_count": 53,
   "id": "7f87cabd",
   "metadata": {},
   "outputs": [],
   "source": [
    "# ANN"
   ]
  },
  {
   "cell_type": "code",
   "execution_count": 54,
   "id": "bf7caa44",
   "metadata": {},
   "outputs": [],
   "source": [
    "from tensorflow.keras.models import Sequential\n",
    "from tensorflow.keras.layers import Dense\n",
    "from sklearn.preprocessing import StandardScaler # we have to scale the data before train Ann model"
   ]
  },
  {
   "cell_type": "code",
   "execution_count": 55,
   "id": "67dc593e",
   "metadata": {},
   "outputs": [],
   "source": [
    "scaler = StandardScaler()\n",
    "X_train_s = scaler.fit_transform(X_train)\n",
    "X_test_s = scaler.transform(X_test)"
   ]
  },
  {
   "cell_type": "code",
   "execution_count": 56,
   "id": "fbf23d60",
   "metadata": {},
   "outputs": [
    {
     "data": {
      "text/plain": [
       "(614, 5)"
      ]
     },
     "execution_count": 56,
     "metadata": {},
     "output_type": "execute_result"
    }
   ],
   "source": [
    "X_train.shape"
   ]
  },
  {
   "cell_type": "code",
   "execution_count": 57,
   "id": "ff5241dd",
   "metadata": {},
   "outputs": [],
   "source": [
    "model = Sequential()\n",
    "model.add(Dense(10, activation = 'relu', input_dim=5))\n",
    "model.add(Dense(7, activation = 'relu'))\n",
    "model.add(Dense(5, activation = 'relu'))\n",
    "model.add(Dense(1, activation = 'sigmoid'))\n",
    "\n",
    "model.compile(optimizer='adam', loss='binary_crossentropy', metrics=['accuracy'])"
   ]
  },
  {
   "cell_type": "code",
   "execution_count": 58,
   "id": "c352b8c2",
   "metadata": {},
   "outputs": [
    {
     "name": "stdout",
     "output_type": "stream",
     "text": [
      "Epoch 1/200\n",
      "62/62 [==============================] - 1s 7ms/step - loss: 0.6263 - accuracy: 0.6759 - val_loss: 0.5750 - val_accuracy: 0.6623\n",
      "Epoch 2/200\n",
      "62/62 [==============================] - 0s 3ms/step - loss: 0.5626 - accuracy: 0.6889 - val_loss: 0.5282 - val_accuracy: 0.7013\n",
      "Epoch 3/200\n",
      "62/62 [==============================] - 0s 3ms/step - loss: 0.5255 - accuracy: 0.7199 - val_loss: 0.5020 - val_accuracy: 0.7208\n",
      "Epoch 4/200\n",
      "62/62 [==============================] - 0s 3ms/step - loss: 0.5025 - accuracy: 0.7508 - val_loss: 0.4870 - val_accuracy: 0.7273\n",
      "Epoch 5/200\n",
      "62/62 [==============================] - 0s 3ms/step - loss: 0.4850 - accuracy: 0.7638 - val_loss: 0.4727 - val_accuracy: 0.7662\n",
      "Epoch 6/200\n",
      "62/62 [==============================] - 0s 3ms/step - loss: 0.4727 - accuracy: 0.7720 - val_loss: 0.4640 - val_accuracy: 0.7727\n",
      "Epoch 7/200\n",
      "62/62 [==============================] - 0s 3ms/step - loss: 0.4645 - accuracy: 0.7785 - val_loss: 0.4607 - val_accuracy: 0.7662\n",
      "Epoch 8/200\n",
      "62/62 [==============================] - 0s 3ms/step - loss: 0.4599 - accuracy: 0.7687 - val_loss: 0.4598 - val_accuracy: 0.7727\n",
      "Epoch 9/200\n",
      "62/62 [==============================] - 0s 3ms/step - loss: 0.4554 - accuracy: 0.7704 - val_loss: 0.4590 - val_accuracy: 0.7597\n",
      "Epoch 10/200\n",
      "62/62 [==============================] - 0s 3ms/step - loss: 0.4531 - accuracy: 0.7687 - val_loss: 0.4594 - val_accuracy: 0.7597\n",
      "Epoch 11/200\n",
      "62/62 [==============================] - 0s 3ms/step - loss: 0.4509 - accuracy: 0.7736 - val_loss: 0.4597 - val_accuracy: 0.7468\n",
      "Epoch 12/200\n",
      "62/62 [==============================] - 0s 3ms/step - loss: 0.4487 - accuracy: 0.7752 - val_loss: 0.4593 - val_accuracy: 0.7532\n",
      "Epoch 13/200\n",
      "62/62 [==============================] - 0s 3ms/step - loss: 0.4478 - accuracy: 0.7818 - val_loss: 0.4611 - val_accuracy: 0.7532\n",
      "Epoch 14/200\n",
      "62/62 [==============================] - 0s 3ms/step - loss: 0.4466 - accuracy: 0.7752 - val_loss: 0.4593 - val_accuracy: 0.7662\n",
      "Epoch 15/200\n",
      "62/62 [==============================] - 0s 3ms/step - loss: 0.4447 - accuracy: 0.7785 - val_loss: 0.4613 - val_accuracy: 0.7597\n",
      "Epoch 16/200\n",
      "62/62 [==============================] - 0s 3ms/step - loss: 0.4436 - accuracy: 0.7769 - val_loss: 0.4611 - val_accuracy: 0.7662\n",
      "Epoch 17/200\n",
      "62/62 [==============================] - 0s 2ms/step - loss: 0.4436 - accuracy: 0.7720 - val_loss: 0.4594 - val_accuracy: 0.7727\n",
      "Epoch 18/200\n",
      "62/62 [==============================] - 0s 3ms/step - loss: 0.4417 - accuracy: 0.7769 - val_loss: 0.4616 - val_accuracy: 0.7727\n",
      "Epoch 19/200\n",
      "62/62 [==============================] - 0s 3ms/step - loss: 0.4408 - accuracy: 0.7769 - val_loss: 0.4622 - val_accuracy: 0.7792\n",
      "Epoch 20/200\n",
      "62/62 [==============================] - 0s 3ms/step - loss: 0.4397 - accuracy: 0.7769 - val_loss: 0.4612 - val_accuracy: 0.7792\n",
      "Epoch 21/200\n",
      "62/62 [==============================] - 0s 3ms/step - loss: 0.4387 - accuracy: 0.7785 - val_loss: 0.4628 - val_accuracy: 0.7727\n",
      "Epoch 22/200\n",
      "62/62 [==============================] - 0s 3ms/step - loss: 0.4378 - accuracy: 0.7752 - val_loss: 0.4626 - val_accuracy: 0.7727\n",
      "Epoch 23/200\n",
      "62/62 [==============================] - 0s 3ms/step - loss: 0.4374 - accuracy: 0.7801 - val_loss: 0.4632 - val_accuracy: 0.7727\n",
      "Epoch 24/200\n",
      "62/62 [==============================] - 0s 3ms/step - loss: 0.4359 - accuracy: 0.7818 - val_loss: 0.4648 - val_accuracy: 0.7792\n",
      "Epoch 25/200\n",
      "62/62 [==============================] - 0s 3ms/step - loss: 0.4350 - accuracy: 0.7818 - val_loss: 0.4660 - val_accuracy: 0.7792\n",
      "Epoch 26/200\n",
      "62/62 [==============================] - 0s 3ms/step - loss: 0.4347 - accuracy: 0.7818 - val_loss: 0.4646 - val_accuracy: 0.7857\n",
      "Epoch 27/200\n",
      "62/62 [==============================] - 0s 3ms/step - loss: 0.4337 - accuracy: 0.7785 - val_loss: 0.4651 - val_accuracy: 0.7857\n",
      "Epoch 28/200\n",
      "62/62 [==============================] - 0s 3ms/step - loss: 0.4338 - accuracy: 0.7883 - val_loss: 0.4665 - val_accuracy: 0.7857\n",
      "Epoch 29/200\n",
      "62/62 [==============================] - 0s 3ms/step - loss: 0.4309 - accuracy: 0.7850 - val_loss: 0.4653 - val_accuracy: 0.7792\n",
      "Epoch 30/200\n",
      "62/62 [==============================] - 0s 3ms/step - loss: 0.4310 - accuracy: 0.7818 - val_loss: 0.4653 - val_accuracy: 0.7792\n",
      "Epoch 31/200\n",
      "62/62 [==============================] - 0s 3ms/step - loss: 0.4304 - accuracy: 0.7883 - val_loss: 0.4670 - val_accuracy: 0.7792\n",
      "Epoch 32/200\n",
      "62/62 [==============================] - 0s 3ms/step - loss: 0.4291 - accuracy: 0.7866 - val_loss: 0.4665 - val_accuracy: 0.7792\n",
      "Epoch 33/200\n",
      "62/62 [==============================] - 0s 3ms/step - loss: 0.4287 - accuracy: 0.7818 - val_loss: 0.4679 - val_accuracy: 0.7727\n",
      "Epoch 34/200\n",
      "62/62 [==============================] - 0s 3ms/step - loss: 0.4280 - accuracy: 0.7834 - val_loss: 0.4666 - val_accuracy: 0.7792\n",
      "Epoch 35/200\n",
      "62/62 [==============================] - 0s 5ms/step - loss: 0.4279 - accuracy: 0.7899 - val_loss: 0.4667 - val_accuracy: 0.7792\n",
      "Epoch 36/200\n",
      "62/62 [==============================] - 0s 5ms/step - loss: 0.4273 - accuracy: 0.7866 - val_loss: 0.4662 - val_accuracy: 0.7727\n",
      "Epoch 37/200\n",
      "62/62 [==============================] - 0s 5ms/step - loss: 0.4264 - accuracy: 0.7915 - val_loss: 0.4669 - val_accuracy: 0.7792\n",
      "Epoch 38/200\n",
      "62/62 [==============================] - 0s 5ms/step - loss: 0.4260 - accuracy: 0.7899 - val_loss: 0.4674 - val_accuracy: 0.7727\n",
      "Epoch 39/200\n",
      "62/62 [==============================] - 0s 5ms/step - loss: 0.4252 - accuracy: 0.7899 - val_loss: 0.4690 - val_accuracy: 0.7727\n",
      "Epoch 40/200\n",
      "62/62 [==============================] - 0s 5ms/step - loss: 0.4259 - accuracy: 0.7850 - val_loss: 0.4697 - val_accuracy: 0.7662\n",
      "Epoch 41/200\n",
      "62/62 [==============================] - 0s 5ms/step - loss: 0.4253 - accuracy: 0.7850 - val_loss: 0.4668 - val_accuracy: 0.7727\n",
      "Epoch 42/200\n",
      "62/62 [==============================] - 0s 5ms/step - loss: 0.4235 - accuracy: 0.7915 - val_loss: 0.4687 - val_accuracy: 0.7662\n",
      "Epoch 43/200\n",
      "62/62 [==============================] - 0s 5ms/step - loss: 0.4227 - accuracy: 0.7883 - val_loss: 0.4692 - val_accuracy: 0.7662\n",
      "Epoch 44/200\n",
      "62/62 [==============================] - 0s 5ms/step - loss: 0.4225 - accuracy: 0.7850 - val_loss: 0.4696 - val_accuracy: 0.7662\n",
      "Epoch 45/200\n",
      "62/62 [==============================] - 0s 5ms/step - loss: 0.4215 - accuracy: 0.7915 - val_loss: 0.4713 - val_accuracy: 0.7662\n",
      "Epoch 46/200\n",
      "62/62 [==============================] - 0s 5ms/step - loss: 0.4213 - accuracy: 0.7850 - val_loss: 0.4706 - val_accuracy: 0.7662\n",
      "Epoch 47/200\n",
      "62/62 [==============================] - 0s 5ms/step - loss: 0.4212 - accuracy: 0.7899 - val_loss: 0.4727 - val_accuracy: 0.7662\n",
      "Epoch 48/200\n",
      "62/62 [==============================] - 0s 5ms/step - loss: 0.4205 - accuracy: 0.7883 - val_loss: 0.4716 - val_accuracy: 0.7662\n",
      "Epoch 49/200\n",
      "62/62 [==============================] - 0s 5ms/step - loss: 0.4195 - accuracy: 0.7915 - val_loss: 0.4704 - val_accuracy: 0.7597\n",
      "Epoch 50/200\n",
      "62/62 [==============================] - 0s 5ms/step - loss: 0.4190 - accuracy: 0.7899 - val_loss: 0.4715 - val_accuracy: 0.7662\n",
      "Epoch 51/200\n",
      "62/62 [==============================] - 0s 5ms/step - loss: 0.4203 - accuracy: 0.7883 - val_loss: 0.4738 - val_accuracy: 0.7662\n",
      "Epoch 52/200\n",
      "62/62 [==============================] - 0s 5ms/step - loss: 0.4195 - accuracy: 0.7866 - val_loss: 0.4727 - val_accuracy: 0.7662\n",
      "Epoch 53/200\n",
      "62/62 [==============================] - 0s 5ms/step - loss: 0.4179 - accuracy: 0.7899 - val_loss: 0.4717 - val_accuracy: 0.7597\n",
      "Epoch 54/200\n",
      "62/62 [==============================] - 0s 4ms/step - loss: 0.4176 - accuracy: 0.7915 - val_loss: 0.4727 - val_accuracy: 0.7662\n",
      "Epoch 55/200\n",
      "62/62 [==============================] - 0s 3ms/step - loss: 0.4189 - accuracy: 0.7883 - val_loss: 0.4726 - val_accuracy: 0.7597\n",
      "Epoch 56/200\n",
      "62/62 [==============================] - 0s 5ms/step - loss: 0.4183 - accuracy: 0.7899 - val_loss: 0.4734 - val_accuracy: 0.7662\n",
      "Epoch 57/200\n",
      "62/62 [==============================] - 0s 5ms/step - loss: 0.4174 - accuracy: 0.7899 - val_loss: 0.4763 - val_accuracy: 0.7662\n",
      "Epoch 58/200\n",
      "62/62 [==============================] - 0s 5ms/step - loss: 0.4167 - accuracy: 0.7899 - val_loss: 0.4734 - val_accuracy: 0.7597\n"
     ]
    },
    {
     "name": "stdout",
     "output_type": "stream",
     "text": [
      "Epoch 59/200\n",
      "62/62 [==============================] - 0s 5ms/step - loss: 0.4156 - accuracy: 0.7899 - val_loss: 0.4741 - val_accuracy: 0.7727\n",
      "Epoch 60/200\n",
      "62/62 [==============================] - 0s 4ms/step - loss: 0.4159 - accuracy: 0.7883 - val_loss: 0.4780 - val_accuracy: 0.7662\n",
      "Epoch 61/200\n",
      "62/62 [==============================] - 0s 5ms/step - loss: 0.4154 - accuracy: 0.7883 - val_loss: 0.4769 - val_accuracy: 0.7662\n",
      "Epoch 62/200\n",
      "62/62 [==============================] - 0s 4ms/step - loss: 0.4157 - accuracy: 0.7834 - val_loss: 0.4785 - val_accuracy: 0.7662\n",
      "Epoch 63/200\n",
      "62/62 [==============================] - 0s 3ms/step - loss: 0.4139 - accuracy: 0.7883 - val_loss: 0.4775 - val_accuracy: 0.7597\n",
      "Epoch 64/200\n",
      "62/62 [==============================] - 0s 3ms/step - loss: 0.4146 - accuracy: 0.7932 - val_loss: 0.4770 - val_accuracy: 0.7597\n",
      "Epoch 65/200\n",
      "62/62 [==============================] - 0s 4ms/step - loss: 0.4138 - accuracy: 0.7834 - val_loss: 0.4779 - val_accuracy: 0.7597\n",
      "Epoch 66/200\n",
      "62/62 [==============================] - 0s 3ms/step - loss: 0.4135 - accuracy: 0.7834 - val_loss: 0.4792 - val_accuracy: 0.7597\n",
      "Epoch 67/200\n",
      "62/62 [==============================] - 0s 4ms/step - loss: 0.4131 - accuracy: 0.7866 - val_loss: 0.4793 - val_accuracy: 0.7597\n",
      "Epoch 68/200\n",
      "62/62 [==============================] - 0s 6ms/step - loss: 0.4130 - accuracy: 0.7899 - val_loss: 0.4806 - val_accuracy: 0.7597\n",
      "Epoch 69/200\n",
      "62/62 [==============================] - 0s 4ms/step - loss: 0.4118 - accuracy: 0.7899 - val_loss: 0.4778 - val_accuracy: 0.7662\n",
      "Epoch 70/200\n",
      "62/62 [==============================] - 0s 5ms/step - loss: 0.4117 - accuracy: 0.7899 - val_loss: 0.4784 - val_accuracy: 0.7597\n",
      "Epoch 71/200\n",
      "62/62 [==============================] - 0s 5ms/step - loss: 0.4124 - accuracy: 0.7883 - val_loss: 0.4816 - val_accuracy: 0.7532\n",
      "Epoch 72/200\n",
      "62/62 [==============================] - 0s 5ms/step - loss: 0.4112 - accuracy: 0.7915 - val_loss: 0.4798 - val_accuracy: 0.7662\n",
      "Epoch 73/200\n",
      "62/62 [==============================] - 0s 5ms/step - loss: 0.4114 - accuracy: 0.7883 - val_loss: 0.4817 - val_accuracy: 0.7597\n",
      "Epoch 74/200\n",
      "62/62 [==============================] - 0s 5ms/step - loss: 0.4113 - accuracy: 0.7883 - val_loss: 0.4820 - val_accuracy: 0.7532\n",
      "Epoch 75/200\n",
      "62/62 [==============================] - 0s 5ms/step - loss: 0.4105 - accuracy: 0.7899 - val_loss: 0.4816 - val_accuracy: 0.7597\n",
      "Epoch 76/200\n",
      "62/62 [==============================] - 0s 5ms/step - loss: 0.4098 - accuracy: 0.7818 - val_loss: 0.4829 - val_accuracy: 0.7597\n",
      "Epoch 77/200\n",
      "62/62 [==============================] - 0s 5ms/step - loss: 0.4100 - accuracy: 0.7932 - val_loss: 0.4822 - val_accuracy: 0.7597\n",
      "Epoch 78/200\n",
      "62/62 [==============================] - 0s 5ms/step - loss: 0.4099 - accuracy: 0.7899 - val_loss: 0.4806 - val_accuracy: 0.7662\n",
      "Epoch 79/200\n",
      "62/62 [==============================] - 0s 5ms/step - loss: 0.4113 - accuracy: 0.7883 - val_loss: 0.4826 - val_accuracy: 0.7727\n",
      "Epoch 80/200\n",
      "62/62 [==============================] - 0s 5ms/step - loss: 0.4089 - accuracy: 0.7899 - val_loss: 0.4838 - val_accuracy: 0.7532\n",
      "Epoch 81/200\n",
      "62/62 [==============================] - 0s 5ms/step - loss: 0.4097 - accuracy: 0.7899 - val_loss: 0.4841 - val_accuracy: 0.7532\n",
      "Epoch 82/200\n",
      "62/62 [==============================] - 0s 4ms/step - loss: 0.4093 - accuracy: 0.7883 - val_loss: 0.4842 - val_accuracy: 0.7597\n",
      "Epoch 83/200\n",
      "62/62 [==============================] - 0s 5ms/step - loss: 0.4098 - accuracy: 0.7883 - val_loss: 0.4848 - val_accuracy: 0.7597\n",
      "Epoch 84/200\n",
      "62/62 [==============================] - 0s 6ms/step - loss: 0.4078 - accuracy: 0.7850 - val_loss: 0.4823 - val_accuracy: 0.7597\n",
      "Epoch 85/200\n",
      "62/62 [==============================] - 0s 3ms/step - loss: 0.4079 - accuracy: 0.7883 - val_loss: 0.4837 - val_accuracy: 0.7597\n",
      "Epoch 86/200\n",
      "62/62 [==============================] - 0s 5ms/step - loss: 0.4077 - accuracy: 0.7899 - val_loss: 0.4829 - val_accuracy: 0.7532\n",
      "Epoch 87/200\n",
      "62/62 [==============================] - 0s 5ms/step - loss: 0.4076 - accuracy: 0.7883 - val_loss: 0.4846 - val_accuracy: 0.7597\n",
      "Epoch 88/200\n",
      "62/62 [==============================] - 0s 5ms/step - loss: 0.4066 - accuracy: 0.7915 - val_loss: 0.4853 - val_accuracy: 0.7662\n",
      "Epoch 89/200\n",
      "62/62 [==============================] - 0s 5ms/step - loss: 0.4080 - accuracy: 0.7915 - val_loss: 0.4817 - val_accuracy: 0.7597\n",
      "Epoch 90/200\n",
      "62/62 [==============================] - 0s 5ms/step - loss: 0.4069 - accuracy: 0.7899 - val_loss: 0.4829 - val_accuracy: 0.7532\n",
      "Epoch 91/200\n",
      "62/62 [==============================] - 0s 5ms/step - loss: 0.4061 - accuracy: 0.7932 - val_loss: 0.4861 - val_accuracy: 0.7597\n",
      "Epoch 92/200\n",
      "62/62 [==============================] - 0s 5ms/step - loss: 0.4060 - accuracy: 0.7883 - val_loss: 0.4861 - val_accuracy: 0.7597\n",
      "Epoch 93/200\n",
      "62/62 [==============================] - 0s 5ms/step - loss: 0.4062 - accuracy: 0.7932 - val_loss: 0.4823 - val_accuracy: 0.7597\n",
      "Epoch 94/200\n",
      "62/62 [==============================] - 0s 5ms/step - loss: 0.4052 - accuracy: 0.7948 - val_loss: 0.4864 - val_accuracy: 0.7532\n",
      "Epoch 95/200\n",
      "62/62 [==============================] - 0s 5ms/step - loss: 0.4064 - accuracy: 0.7899 - val_loss: 0.4892 - val_accuracy: 0.7597\n",
      "Epoch 96/200\n",
      "62/62 [==============================] - 0s 5ms/step - loss: 0.4054 - accuracy: 0.7899 - val_loss: 0.4867 - val_accuracy: 0.7662\n",
      "Epoch 97/200\n",
      "62/62 [==============================] - 0s 5ms/step - loss: 0.4045 - accuracy: 0.7932 - val_loss: 0.4846 - val_accuracy: 0.7597\n",
      "Epoch 98/200\n",
      "62/62 [==============================] - 0s 5ms/step - loss: 0.4053 - accuracy: 0.7932 - val_loss: 0.4878 - val_accuracy: 0.7597\n",
      "Epoch 99/200\n",
      "62/62 [==============================] - 0s 5ms/step - loss: 0.4046 - accuracy: 0.7948 - val_loss: 0.4863 - val_accuracy: 0.7532\n",
      "Epoch 100/200\n",
      "62/62 [==============================] - 0s 5ms/step - loss: 0.4046 - accuracy: 0.7932 - val_loss: 0.4889 - val_accuracy: 0.7532\n",
      "Epoch 101/200\n",
      "62/62 [==============================] - 0s 5ms/step - loss: 0.4042 - accuracy: 0.7964 - val_loss: 0.4840 - val_accuracy: 0.7597\n",
      "Epoch 102/200\n",
      "62/62 [==============================] - 0s 5ms/step - loss: 0.4035 - accuracy: 0.7915 - val_loss: 0.4881 - val_accuracy: 0.7532\n",
      "Epoch 103/200\n",
      "62/62 [==============================] - 0s 5ms/step - loss: 0.4051 - accuracy: 0.7899 - val_loss: 0.4850 - val_accuracy: 0.7662\n",
      "Epoch 104/200\n",
      "62/62 [==============================] - 0s 2ms/step - loss: 0.4035 - accuracy: 0.7964 - val_loss: 0.4860 - val_accuracy: 0.7597\n",
      "Epoch 105/200\n",
      "62/62 [==============================] - 0s 3ms/step - loss: 0.4040 - accuracy: 0.7915 - val_loss: 0.4874 - val_accuracy: 0.7597\n",
      "Epoch 106/200\n",
      "62/62 [==============================] - 0s 3ms/step - loss: 0.4041 - accuracy: 0.7883 - val_loss: 0.4880 - val_accuracy: 0.7532\n",
      "Epoch 107/200\n",
      "62/62 [==============================] - 0s 2ms/step - loss: 0.4036 - accuracy: 0.7948 - val_loss: 0.4877 - val_accuracy: 0.7597\n",
      "Epoch 108/200\n",
      "62/62 [==============================] - 0s 3ms/step - loss: 0.4024 - accuracy: 0.7964 - val_loss: 0.4879 - val_accuracy: 0.7532\n",
      "Epoch 109/200\n",
      "62/62 [==============================] - 0s 3ms/step - loss: 0.4032 - accuracy: 0.7932 - val_loss: 0.4862 - val_accuracy: 0.7597\n",
      "Epoch 110/200\n",
      "62/62 [==============================] - 0s 3ms/step - loss: 0.4023 - accuracy: 0.7932 - val_loss: 0.4890 - val_accuracy: 0.7597\n",
      "Epoch 111/200\n",
      "62/62 [==============================] - 0s 3ms/step - loss: 0.4017 - accuracy: 0.7932 - val_loss: 0.4899 - val_accuracy: 0.7468\n",
      "Epoch 112/200\n",
      "62/62 [==============================] - 0s 3ms/step - loss: 0.4033 - accuracy: 0.7915 - val_loss: 0.4871 - val_accuracy: 0.7597\n",
      "Epoch 113/200\n",
      "62/62 [==============================] - 0s 3ms/step - loss: 0.4035 - accuracy: 0.7948 - val_loss: 0.4856 - val_accuracy: 0.7597\n",
      "Epoch 114/200\n",
      "62/62 [==============================] - 0s 3ms/step - loss: 0.4015 - accuracy: 0.7915 - val_loss: 0.4885 - val_accuracy: 0.7597\n",
      "Epoch 115/200\n",
      "62/62 [==============================] - 0s 3ms/step - loss: 0.4017 - accuracy: 0.7948 - val_loss: 0.4909 - val_accuracy: 0.7532\n",
      "Epoch 116/200\n"
     ]
    },
    {
     "name": "stdout",
     "output_type": "stream",
     "text": [
      "62/62 [==============================] - 0s 3ms/step - loss: 0.4017 - accuracy: 0.7932 - val_loss: 0.4912 - val_accuracy: 0.7532\n",
      "Epoch 117/200\n",
      "62/62 [==============================] - 0s 3ms/step - loss: 0.4004 - accuracy: 0.7899 - val_loss: 0.4876 - val_accuracy: 0.7532\n",
      "Epoch 118/200\n",
      "62/62 [==============================] - 0s 3ms/step - loss: 0.4020 - accuracy: 0.7948 - val_loss: 0.4878 - val_accuracy: 0.7597\n",
      "Epoch 119/200\n",
      "62/62 [==============================] - 0s 3ms/step - loss: 0.4008 - accuracy: 0.7932 - val_loss: 0.4920 - val_accuracy: 0.7532\n",
      "Epoch 120/200\n",
      "62/62 [==============================] - 0s 3ms/step - loss: 0.4004 - accuracy: 0.7915 - val_loss: 0.4914 - val_accuracy: 0.7532\n",
      "Epoch 121/200\n",
      "62/62 [==============================] - 0s 3ms/step - loss: 0.4013 - accuracy: 0.7948 - val_loss: 0.4938 - val_accuracy: 0.7532\n",
      "Epoch 122/200\n",
      "62/62 [==============================] - 0s 3ms/step - loss: 0.4006 - accuracy: 0.7915 - val_loss: 0.4915 - val_accuracy: 0.7532\n",
      "Epoch 123/200\n",
      "62/62 [==============================] - 0s 3ms/step - loss: 0.4004 - accuracy: 0.7964 - val_loss: 0.4901 - val_accuracy: 0.7597\n",
      "Epoch 124/200\n",
      "62/62 [==============================] - 0s 3ms/step - loss: 0.3997 - accuracy: 0.7899 - val_loss: 0.4904 - val_accuracy: 0.7597\n",
      "Epoch 125/200\n",
      "62/62 [==============================] - 0s 3ms/step - loss: 0.4016 - accuracy: 0.7915 - val_loss: 0.4896 - val_accuracy: 0.7532\n",
      "Epoch 126/200\n",
      "62/62 [==============================] - 0s 3ms/step - loss: 0.4003 - accuracy: 0.7915 - val_loss: 0.4896 - val_accuracy: 0.7597\n",
      "Epoch 127/200\n",
      "62/62 [==============================] - 0s 3ms/step - loss: 0.3988 - accuracy: 0.7932 - val_loss: 0.4919 - val_accuracy: 0.7532\n",
      "Epoch 128/200\n",
      "62/62 [==============================] - 0s 3ms/step - loss: 0.3986 - accuracy: 0.7915 - val_loss: 0.4913 - val_accuracy: 0.7597\n",
      "Epoch 129/200\n",
      "62/62 [==============================] - 0s 3ms/step - loss: 0.3992 - accuracy: 0.7899 - val_loss: 0.4951 - val_accuracy: 0.7468\n",
      "Epoch 130/200\n",
      "62/62 [==============================] - 0s 2ms/step - loss: 0.3978 - accuracy: 0.7964 - val_loss: 0.4915 - val_accuracy: 0.7597\n",
      "Epoch 131/200\n",
      "62/62 [==============================] - 0s 3ms/step - loss: 0.3971 - accuracy: 0.7948 - val_loss: 0.4947 - val_accuracy: 0.7597\n",
      "Epoch 132/200\n",
      "62/62 [==============================] - 0s 3ms/step - loss: 0.3982 - accuracy: 0.7866 - val_loss: 0.4919 - val_accuracy: 0.7597\n",
      "Epoch 133/200\n",
      "62/62 [==============================] - 0s 3ms/step - loss: 0.3980 - accuracy: 0.7932 - val_loss: 0.4934 - val_accuracy: 0.7597\n",
      "Epoch 134/200\n",
      "62/62 [==============================] - 0s 3ms/step - loss: 0.3970 - accuracy: 0.7866 - val_loss: 0.4903 - val_accuracy: 0.7662\n",
      "Epoch 135/200\n",
      "62/62 [==============================] - 0s 5ms/step - loss: 0.3972 - accuracy: 0.7915 - val_loss: 0.4910 - val_accuracy: 0.7662\n",
      "Epoch 136/200\n",
      "62/62 [==============================] - 0s 5ms/step - loss: 0.3972 - accuracy: 0.7932 - val_loss: 0.4898 - val_accuracy: 0.7662\n",
      "Epoch 137/200\n",
      "62/62 [==============================] - 0s 5ms/step - loss: 0.3959 - accuracy: 0.7932 - val_loss: 0.4939 - val_accuracy: 0.7532\n",
      "Epoch 138/200\n",
      "62/62 [==============================] - 0s 5ms/step - loss: 0.3963 - accuracy: 0.7866 - val_loss: 0.4906 - val_accuracy: 0.7662\n",
      "Epoch 139/200\n",
      "62/62 [==============================] - 0s 6ms/step - loss: 0.3957 - accuracy: 0.7899 - val_loss: 0.4926 - val_accuracy: 0.7662\n",
      "Epoch 140/200\n",
      "62/62 [==============================] - 0s 4ms/step - loss: 0.3952 - accuracy: 0.7883 - val_loss: 0.4910 - val_accuracy: 0.7662\n",
      "Epoch 141/200\n",
      "62/62 [==============================] - 0s 5ms/step - loss: 0.3957 - accuracy: 0.7915 - val_loss: 0.4919 - val_accuracy: 0.7662\n",
      "Epoch 142/200\n",
      "62/62 [==============================] - 0s 5ms/step - loss: 0.3950 - accuracy: 0.7964 - val_loss: 0.4967 - val_accuracy: 0.7597\n",
      "Epoch 143/200\n",
      "62/62 [==============================] - 0s 6ms/step - loss: 0.3950 - accuracy: 0.7964 - val_loss: 0.4927 - val_accuracy: 0.7597\n",
      "Epoch 144/200\n",
      "62/62 [==============================] - 0s 5ms/step - loss: 0.3947 - accuracy: 0.7915 - val_loss: 0.4945 - val_accuracy: 0.7662\n",
      "Epoch 145/200\n",
      "62/62 [==============================] - 0s 4ms/step - loss: 0.3954 - accuracy: 0.7866 - val_loss: 0.4950 - val_accuracy: 0.7597\n",
      "Epoch 146/200\n",
      "62/62 [==============================] - 0s 5ms/step - loss: 0.3950 - accuracy: 0.7932 - val_loss: 0.4952 - val_accuracy: 0.7662\n",
      "Epoch 147/200\n",
      "62/62 [==============================] - 0s 5ms/step - loss: 0.3943 - accuracy: 0.7915 - val_loss: 0.4940 - val_accuracy: 0.7662\n",
      "Epoch 148/200\n",
      "62/62 [==============================] - 0s 5ms/step - loss: 0.3945 - accuracy: 0.7932 - val_loss: 0.4927 - val_accuracy: 0.7727\n",
      "Epoch 149/200\n",
      "62/62 [==============================] - 0s 3ms/step - loss: 0.3946 - accuracy: 0.7899 - val_loss: 0.4926 - val_accuracy: 0.7662\n",
      "Epoch 150/200\n",
      "62/62 [==============================] - 0s 3ms/step - loss: 0.3938 - accuracy: 0.7915 - val_loss: 0.4949 - val_accuracy: 0.7662\n",
      "Epoch 151/200\n",
      "62/62 [==============================] - 0s 3ms/step - loss: 0.3944 - accuracy: 0.7948 - val_loss: 0.4968 - val_accuracy: 0.7597\n",
      "Epoch 152/200\n",
      "62/62 [==============================] - 0s 3ms/step - loss: 0.3943 - accuracy: 0.7915 - val_loss: 0.4956 - val_accuracy: 0.7727\n",
      "Epoch 153/200\n",
      "62/62 [==============================] - 0s 3ms/step - loss: 0.3931 - accuracy: 0.7883 - val_loss: 0.4950 - val_accuracy: 0.7662\n",
      "Epoch 154/200\n",
      "62/62 [==============================] - 0s 3ms/step - loss: 0.3953 - accuracy: 0.7932 - val_loss: 0.4985 - val_accuracy: 0.7597\n",
      "Epoch 155/200\n",
      "62/62 [==============================] - 0s 3ms/step - loss: 0.3932 - accuracy: 0.7883 - val_loss: 0.4960 - val_accuracy: 0.7597\n",
      "Epoch 156/200\n",
      "62/62 [==============================] - 0s 3ms/step - loss: 0.3922 - accuracy: 0.7899 - val_loss: 0.4918 - val_accuracy: 0.7727\n",
      "Epoch 157/200\n",
      "62/62 [==============================] - 0s 3ms/step - loss: 0.3915 - accuracy: 0.7899 - val_loss: 0.4957 - val_accuracy: 0.7662\n",
      "Epoch 158/200\n",
      "62/62 [==============================] - 0s 3ms/step - loss: 0.3918 - accuracy: 0.7866 - val_loss: 0.4961 - val_accuracy: 0.7662\n",
      "Epoch 159/200\n",
      "62/62 [==============================] - 0s 3ms/step - loss: 0.3923 - accuracy: 0.7883 - val_loss: 0.5006 - val_accuracy: 0.7597\n",
      "Epoch 160/200\n",
      "62/62 [==============================] - 0s 3ms/step - loss: 0.3913 - accuracy: 0.7899 - val_loss: 0.5001 - val_accuracy: 0.7597\n",
      "Epoch 161/200\n",
      "62/62 [==============================] - 0s 3ms/step - loss: 0.3928 - accuracy: 0.7883 - val_loss: 0.4948 - val_accuracy: 0.7727\n",
      "Epoch 162/200\n",
      "62/62 [==============================] - 0s 3ms/step - loss: 0.3911 - accuracy: 0.7899 - val_loss: 0.4966 - val_accuracy: 0.7662\n",
      "Epoch 163/200\n",
      "62/62 [==============================] - 0s 3ms/step - loss: 0.3917 - accuracy: 0.7980 - val_loss: 0.4969 - val_accuracy: 0.7727\n",
      "Epoch 164/200\n",
      "62/62 [==============================] - 0s 3ms/step - loss: 0.3921 - accuracy: 0.7915 - val_loss: 0.4986 - val_accuracy: 0.7662\n",
      "Epoch 165/200\n",
      "62/62 [==============================] - 0s 3ms/step - loss: 0.3910 - accuracy: 0.7932 - val_loss: 0.4967 - val_accuracy: 0.7727\n",
      "Epoch 166/200\n",
      "62/62 [==============================] - 0s 3ms/step - loss: 0.3916 - accuracy: 0.7899 - val_loss: 0.4990 - val_accuracy: 0.7662\n",
      "Epoch 167/200\n",
      "62/62 [==============================] - 0s 3ms/step - loss: 0.3912 - accuracy: 0.7997 - val_loss: 0.4972 - val_accuracy: 0.7792\n",
      "Epoch 168/200\n",
      "62/62 [==============================] - 0s 3ms/step - loss: 0.3910 - accuracy: 0.7915 - val_loss: 0.4970 - val_accuracy: 0.7727\n",
      "Epoch 169/200\n",
      "62/62 [==============================] - 0s 3ms/step - loss: 0.3909 - accuracy: 0.7932 - val_loss: 0.4993 - val_accuracy: 0.7662\n",
      "Epoch 170/200\n",
      "62/62 [==============================] - 0s 3ms/step - loss: 0.3906 - accuracy: 0.7866 - val_loss: 0.4964 - val_accuracy: 0.7662\n",
      "Epoch 171/200\n",
      "62/62 [==============================] - 0s 3ms/step - loss: 0.3916 - accuracy: 0.7964 - val_loss: 0.4943 - val_accuracy: 0.7727\n",
      "Epoch 172/200\n",
      "62/62 [==============================] - 0s 3ms/step - loss: 0.3905 - accuracy: 0.7964 - val_loss: 0.4973 - val_accuracy: 0.7727\n",
      "Epoch 173/200\n"
     ]
    },
    {
     "name": "stdout",
     "output_type": "stream",
     "text": [
      "62/62 [==============================] - 0s 3ms/step - loss: 0.3900 - accuracy: 0.7948 - val_loss: 0.4994 - val_accuracy: 0.7597\n",
      "Epoch 174/200\n",
      "62/62 [==============================] - 0s 3ms/step - loss: 0.3900 - accuracy: 0.7883 - val_loss: 0.4988 - val_accuracy: 0.7727\n",
      "Epoch 175/200\n",
      "62/62 [==============================] - 0s 3ms/step - loss: 0.3898 - accuracy: 0.7997 - val_loss: 0.5010 - val_accuracy: 0.7597\n",
      "Epoch 176/200\n",
      "62/62 [==============================] - 0s 3ms/step - loss: 0.3895 - accuracy: 0.7948 - val_loss: 0.5002 - val_accuracy: 0.7727\n",
      "Epoch 177/200\n",
      "62/62 [==============================] - 0s 3ms/step - loss: 0.3894 - accuracy: 0.7980 - val_loss: 0.4987 - val_accuracy: 0.7662\n",
      "Epoch 178/200\n",
      "62/62 [==============================] - 0s 3ms/step - loss: 0.3897 - accuracy: 0.7964 - val_loss: 0.4989 - val_accuracy: 0.7727\n",
      "Epoch 179/200\n",
      "62/62 [==============================] - 0s 3ms/step - loss: 0.3907 - accuracy: 0.7932 - val_loss: 0.4975 - val_accuracy: 0.7727\n",
      "Epoch 180/200\n",
      "62/62 [==============================] - 0s 3ms/step - loss: 0.3897 - accuracy: 0.7915 - val_loss: 0.4976 - val_accuracy: 0.7727\n",
      "Epoch 181/200\n",
      "62/62 [==============================] - 0s 3ms/step - loss: 0.3899 - accuracy: 0.7997 - val_loss: 0.5043 - val_accuracy: 0.7597\n",
      "Epoch 182/200\n",
      "62/62 [==============================] - 0s 3ms/step - loss: 0.3894 - accuracy: 0.7899 - val_loss: 0.5014 - val_accuracy: 0.7727\n",
      "Epoch 183/200\n",
      "62/62 [==============================] - 0s 3ms/step - loss: 0.3888 - accuracy: 0.7948 - val_loss: 0.5024 - val_accuracy: 0.7597\n",
      "Epoch 184/200\n",
      "62/62 [==============================] - 0s 3ms/step - loss: 0.3886 - accuracy: 0.7899 - val_loss: 0.5029 - val_accuracy: 0.7662\n",
      "Epoch 185/200\n",
      "62/62 [==============================] - 0s 3ms/step - loss: 0.3887 - accuracy: 0.7866 - val_loss: 0.5020 - val_accuracy: 0.7662\n",
      "Epoch 186/200\n",
      "62/62 [==============================] - 0s 3ms/step - loss: 0.3881 - accuracy: 0.7948 - val_loss: 0.5021 - val_accuracy: 0.7662\n",
      "Epoch 187/200\n",
      "62/62 [==============================] - 0s 3ms/step - loss: 0.3878 - accuracy: 0.7883 - val_loss: 0.5018 - val_accuracy: 0.7662\n",
      "Epoch 188/200\n",
      "62/62 [==============================] - 0s 3ms/step - loss: 0.3868 - accuracy: 0.7932 - val_loss: 0.5027 - val_accuracy: 0.7727\n",
      "Epoch 189/200\n",
      "62/62 [==============================] - 0s 3ms/step - loss: 0.3875 - accuracy: 0.7899 - val_loss: 0.5017 - val_accuracy: 0.7792\n",
      "Epoch 190/200\n",
      "62/62 [==============================] - 0s 3ms/step - loss: 0.3874 - accuracy: 0.7866 - val_loss: 0.5016 - val_accuracy: 0.7792\n",
      "Epoch 191/200\n",
      "62/62 [==============================] - 0s 3ms/step - loss: 0.3871 - accuracy: 0.7899 - val_loss: 0.5058 - val_accuracy: 0.7662\n",
      "Epoch 192/200\n",
      "62/62 [==============================] - 0s 3ms/step - loss: 0.3873 - accuracy: 0.7948 - val_loss: 0.5055 - val_accuracy: 0.7727\n",
      "Epoch 193/200\n",
      "62/62 [==============================] - 0s 3ms/step - loss: 0.3868 - accuracy: 0.7883 - val_loss: 0.5048 - val_accuracy: 0.7727\n",
      "Epoch 194/200\n",
      "62/62 [==============================] - 0s 3ms/step - loss: 0.3870 - accuracy: 0.7932 - val_loss: 0.5081 - val_accuracy: 0.7662\n",
      "Epoch 195/200\n",
      "62/62 [==============================] - 0s 3ms/step - loss: 0.3864 - accuracy: 0.7948 - val_loss: 0.5062 - val_accuracy: 0.7727\n",
      "Epoch 196/200\n",
      "62/62 [==============================] - 0s 2ms/step - loss: 0.3869 - accuracy: 0.7948 - val_loss: 0.5053 - val_accuracy: 0.7662\n",
      "Epoch 197/200\n",
      "62/62 [==============================] - 0s 3ms/step - loss: 0.3866 - accuracy: 0.7932 - val_loss: 0.5029 - val_accuracy: 0.7792\n",
      "Epoch 198/200\n",
      "62/62 [==============================] - 0s 3ms/step - loss: 0.3878 - accuracy: 0.7932 - val_loss: 0.5061 - val_accuracy: 0.7662\n",
      "Epoch 199/200\n",
      "62/62 [==============================] - 0s 3ms/step - loss: 0.3867 - accuracy: 0.7915 - val_loss: 0.5075 - val_accuracy: 0.7662\n",
      "Epoch 200/200\n",
      "62/62 [==============================] - 0s 3ms/step - loss: 0.3860 - accuracy: 0.7932 - val_loss: 0.5076 - val_accuracy: 0.7727\n"
     ]
    },
    {
     "data": {
      "text/plain": [
       "<tensorflow.python.keras.callbacks.History at 0x20689fa0ee0>"
      ]
     },
     "execution_count": 58,
     "metadata": {},
     "output_type": "execute_result"
    }
   ],
   "source": [
    "model.fit(X_train_s, y_train, batch_size=10, epochs=200, verbose=1, validation_data=(X_test_s,y_test))"
   ]
  },
  {
   "cell_type": "code",
   "execution_count": 59,
   "id": "8a1d819d",
   "metadata": {},
   "outputs": [],
   "source": [
    "yp = model.predict(X_test_s)"
   ]
  },
  {
   "cell_type": "code",
   "execution_count": 60,
   "id": "36041296",
   "metadata": {},
   "outputs": [],
   "source": [
    "ypred_a = []\n",
    "\n",
    "for i in yp:\n",
    "    if i > 0.5:\n",
    "        ypred_a.append(1)\n",
    "    else:\n",
    "        ypred_a.append(0)"
   ]
  },
  {
   "cell_type": "code",
   "execution_count": 61,
   "id": "489ae933",
   "metadata": {},
   "outputs": [
    {
     "data": {
      "text/plain": [
       "[0,\n",
       " 0,\n",
       " 1,\n",
       " 1,\n",
       " 0,\n",
       " 0,\n",
       " 0,\n",
       " 1,\n",
       " 0,\n",
       " 1,\n",
       " 1,\n",
       " 0,\n",
       " 0,\n",
       " 1,\n",
       " 0,\n",
       " 1,\n",
       " 0,\n",
       " 0,\n",
       " 0,\n",
       " 0,\n",
       " 1,\n",
       " 0,\n",
       " 1,\n",
       " 0,\n",
       " 0,\n",
       " 0,\n",
       " 1,\n",
       " 1,\n",
       " 1,\n",
       " 0,\n",
       " 0,\n",
       " 0,\n",
       " 0,\n",
       " 1,\n",
       " 0,\n",
       " 0,\n",
       " 0,\n",
       " 0,\n",
       " 0,\n",
       " 0,\n",
       " 1,\n",
       " 0,\n",
       " 0,\n",
       " 1,\n",
       " 1,\n",
       " 0,\n",
       " 1,\n",
       " 0,\n",
       " 0,\n",
       " 0,\n",
       " 0,\n",
       " 0,\n",
       " 1,\n",
       " 0,\n",
       " 1,\n",
       " 1,\n",
       " 0,\n",
       " 0,\n",
       " 1,\n",
       " 0,\n",
       " 0,\n",
       " 0,\n",
       " 1,\n",
       " 0,\n",
       " 1,\n",
       " 1,\n",
       " 0,\n",
       " 1,\n",
       " 1,\n",
       " 0,\n",
       " 1,\n",
       " 0,\n",
       " 1,\n",
       " 0,\n",
       " 1,\n",
       " 0,\n",
       " 0,\n",
       " 0,\n",
       " 0,\n",
       " 0,\n",
       " 0,\n",
       " 0,\n",
       " 0,\n",
       " 0,\n",
       " 0,\n",
       " 1,\n",
       " 0,\n",
       " 0,\n",
       " 1,\n",
       " 0,\n",
       " 1,\n",
       " 0,\n",
       " 1,\n",
       " 0,\n",
       " 0,\n",
       " 1,\n",
       " 0,\n",
       " 0,\n",
       " 1,\n",
       " 1,\n",
       " 0,\n",
       " 1,\n",
       " 0,\n",
       " 0,\n",
       " 0,\n",
       " 0,\n",
       " 0,\n",
       " 0,\n",
       " 0,\n",
       " 0,\n",
       " 1,\n",
       " 0,\n",
       " 0,\n",
       " 0,\n",
       " 0,\n",
       " 1,\n",
       " 0,\n",
       " 1,\n",
       " 1,\n",
       " 1,\n",
       " 0,\n",
       " 0,\n",
       " 0,\n",
       " 1,\n",
       " 1,\n",
       " 0,\n",
       " 0,\n",
       " 0,\n",
       " 1,\n",
       " 0,\n",
       " 0,\n",
       " 1,\n",
       " 1,\n",
       " 0,\n",
       " 0,\n",
       " 0,\n",
       " 0,\n",
       " 0,\n",
       " 0,\n",
       " 1,\n",
       " 0,\n",
       " 0,\n",
       " 0,\n",
       " 0,\n",
       " 0,\n",
       " 1,\n",
       " 0,\n",
       " 0,\n",
       " 0,\n",
       " 0,\n",
       " 1,\n",
       " 0,\n",
       " 0,\n",
       " 1]"
      ]
     },
     "execution_count": 61,
     "metadata": {},
     "output_type": "execute_result"
    }
   ],
   "source": [
    "ypred_a"
   ]
  },
  {
   "cell_type": "code",
   "execution_count": null,
   "id": "48257d22",
   "metadata": {},
   "outputs": [],
   "source": []
  }
 ],
 "metadata": {
  "kernelspec": {
   "display_name": "Python 3",
   "language": "python",
   "name": "python3"
  },
  "language_info": {
   "codemirror_mode": {
    "name": "ipython",
    "version": 3
   },
   "file_extension": ".py",
   "mimetype": "text/x-python",
   "name": "python",
   "nbconvert_exporter": "python",
   "pygments_lexer": "ipython3",
   "version": "3.9.4"
  }
 },
 "nbformat": 4,
 "nbformat_minor": 5
}
